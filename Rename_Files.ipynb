{
 "cells": [
  {
   "cell_type": "markdown",
   "id": "817a66bf",
   "metadata": {},
   "source": [
    "## Rename the files in a Directory / Folder"
   ]
  },
  {
   "cell_type": "code",
   "execution_count": 5,
   "id": "bed746cf",
   "metadata": {},
   "outputs": [
    {
     "name": "stdout",
     "output_type": "stream",
     "text": [
      "Enter the string you would like to rename: Tooth_\n",
      "Where do you want to start numbering: 1\n",
      "Renamed 'POP_1' to 'Tooth_1'\n",
      "Renamed 'POP_10.jpg' to 'Tooth_2.jpg'\n",
      "Renamed 'POP_11.jpg' to 'Tooth_3.jpg'\n",
      "Renamed 'POP_12.jpg' to 'Tooth_4.jpg'\n",
      "Renamed 'POP_13.jpg' to 'Tooth_5.jpg'\n",
      "Renamed 'POP_14.jpg' to 'Tooth_6.jpg'\n",
      "Renamed 'POP_15.jpg' to 'Tooth_7.jpg'\n",
      "Renamed 'POP_16.jpg' to 'Tooth_8.jpg'\n",
      "Renamed 'POP_17.jpg' to 'Tooth_9.jpg'\n",
      "Renamed 'POP_18.jpg' to 'Tooth_10.jpg'\n",
      "Renamed 'POP_19.jpg' to 'Tooth_11.jpg'\n",
      "Renamed 'POP_2.jpg' to 'Tooth_12.jpg'\n",
      "Renamed 'POP_20.jpg' to 'Tooth_13.jpg'\n",
      "Renamed 'POP_21.jpg' to 'Tooth_14.jpg'\n",
      "Renamed 'POP_3.jpg' to 'Tooth_15.jpg'\n",
      "Renamed 'POP_4.jpg' to 'Tooth_16.jpg'\n",
      "Renamed 'POP_5.jpg' to 'Tooth_17.jpg'\n",
      "Renamed 'POP_6.jpg' to 'Tooth_18.jpg'\n",
      "Renamed 'POP_7.jpg' to 'Tooth_19.jpg'\n",
      "Renamed 'POP_8.jpg' to 'Tooth_20.jpg'\n",
      "Renamed 'POP_9.jpg' to 'Tooth_21.jpg'\n",
      "The files are renamed.\n"
     ]
    }
   ],
   "source": [
    "import os\n",
    "\n",
    "def rename_files(folder_path):\n",
    "    \n",
    "    # Checks if the given path refers to an existing directory\n",
    "    if not os.path.isdir(folder_path):\n",
    "        print(\"Invalid directory path\")\n",
    "        return\n",
    "    \n",
    "    # Get all files in the folder\n",
    "    files = os.listdir(folder_path)\n",
    "    \n",
    "    # Name of new files / folders\n",
    "    name = input(\"Enter the string you would like to rename: \")\n",
    "    \n",
    "    # Initialize counter for naming\n",
    "    i = int(input(\"Where do you want to start numbering: \"))\n",
    "    \n",
    "    # Iterate through each file\n",
    "    for file_name in files:\n",
    "        file_ext = os.path.splitext(file_name)[1]  # Get the file extension\n",
    "        \n",
    "        # Create a new file name using the 'string.extension' format\n",
    "        new_file_name = f\"{name}{i}{file_ext}\"\n",
    "        \n",
    "        # Construct the paths for the old and new file names\n",
    "        old_file_path = os.path.join(folder_path, file_name)\n",
    "        new_file_path = os.path.join(folder_path, new_file_name)\n",
    "        \n",
    "        # Rename the file\n",
    "        os.rename(old_file_path, new_file_path)\n",
    "        \n",
    "        # Prints every file new and old name\n",
    "        print(f\"Renamed '{file_name}' to '{new_file_name}'\")\n",
    "        \n",
    "        # Increment the counter for the next file\n",
    "        i += 1\n",
    "    \n",
    "    print(\"\\nThe files are renamed.\")\n",
    "\n",
    "# Enter your folder's directory path\n",
    "folder_path = 'D:\\\\Datasets\\\\tooth'\n",
    "\n",
    "# Calling function\n",
    "rename_files(folder_path)\n",
    "\n"
   ]
  },
  {
   "cell_type": "code",
   "execution_count": null,
   "id": "a2577d4d",
   "metadata": {},
   "outputs": [],
   "source": []
  }
 ],
 "metadata": {
  "kernelspec": {
   "display_name": "Python 3 (ipykernel)",
   "language": "python",
   "name": "python3"
  },
  "language_info": {
   "codemirror_mode": {
    "name": "ipython",
    "version": 3
   },
   "file_extension": ".py",
   "mimetype": "text/x-python",
   "name": "python",
   "nbconvert_exporter": "python",
   "pygments_lexer": "ipython3",
   "version": "3.11.5"
  }
 },
 "nbformat": 4,
 "nbformat_minor": 5
}
